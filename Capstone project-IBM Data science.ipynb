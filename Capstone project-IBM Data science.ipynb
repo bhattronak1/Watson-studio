{
    "cells": [
        {
            "cell_type": "markdown",
            "metadata": {
                "collapsed": true
            },
            "source": "#  __CAPSTONE PROJECT: IBM DATA SCIENCE PROFESSIONAL COURSE__"
        },
        {
            "cell_type": "markdown",
            "metadata": {},
            "source": "## __1. Problem statement-__\n\n#### Family who is living in Charlotte, NC and planning to open a restaurant. Before they think about other things require to open a restaurant, they would like to do assessment on different area based on area, nearby restaurant etc. This will help them comapre and decide best location. "
        },
        {
            "cell_type": "markdown",
            "metadata": {},
            "source": "## __2.Description of Data__\n\nBased on the problem that we are trying to solve, assessment on following list based on zip code would be important.\n\n1. Zip code list of the charlotte\n2. Near by Restaurant\n\nWe will use\n\n1. https://www.zip-codes.com/ - To get list of zipcode in charlotte area\n2. Number of restaurants and their type and location in every neighborhood will be obtained using Foursquare API"
        },
        {
            "cell_type": "code",
            "execution_count": null,
            "metadata": {},
            "outputs": [],
            "source": ""
        }
    ],
    "metadata": {
        "kernelspec": {
            "display_name": "Python 3.6",
            "language": "python",
            "name": "python3"
        },
        "language_info": {
            "codemirror_mode": {
                "name": "ipython",
                "version": 3
            },
            "file_extension": ".py",
            "mimetype": "text/x-python",
            "name": "python",
            "nbconvert_exporter": "python",
            "pygments_lexer": "ipython3",
            "version": "3.6.9"
        }
    },
    "nbformat": 4,
    "nbformat_minor": 1
}